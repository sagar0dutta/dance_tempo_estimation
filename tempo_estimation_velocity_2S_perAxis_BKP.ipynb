{
 "cells": [
  {
   "cell_type": "code",
   "execution_count": 2,
   "metadata": {},
   "outputs": [],
   "source": [
    "import os\n",
    "import pickle\n",
    "from scipy import signal\n",
    "import libfmp.b\n",
    "import librosa\n",
    "import numpy as np\n",
    "import pandas as pd\n",
    "from tqdm import tqdm\n",
    "from load_djembe_marker import *\n",
    "from foot_module import onset_calculations, onset_extraction, onset_filtering, utils, onset_plot\n",
    "import matplotlib.pyplot as plt\n",
    "from scipy.signal import savgol_filter, argrelmin, argrelmax\n",
    "from pydub import AudioSegment\n",
    "from scipy.signal import find_peaks\n",
    "from pydub.generators import Triangle\n",
    "import mir_eval\n",
    "from compute_tempo import *\n",
    "from mutils import DataHandler\n",
    "from dance_evaluation import *"
   ]
  },
  {
   "cell_type": "code",
   "execution_count": 3,
   "metadata": {},
   "outputs": [
    {
     "name": "stdout",
     "output_type": "stream",
     "text": [
      "Loaded BKO_E1_D1_03_Wasulunka_T.pkl\n",
      "Total Sections: 1\n"
     ]
    }
   ],
   "source": [
    "mvnfiles = [\"BKO_E1_D1_01_Suku_T.mvnx\", \"BKO_E1_D1_02_Maraka_T.mvnx\", \"BKO_E1_D1_03_Wasulunka_T.mvnx\", \"BKO_E1_D2_04_Maraka_T.mvnx\"]\n",
    "\n",
    "filename = mvnfiles[2]\n",
    "piece_name = os.path.basename(filename).split(\".\")[0]\n",
    "data_handler = DataHandler()\n",
    "motion_data, drum_onsets, start_f, end_f, start_t, end_t, cycle_onsets, beat_ref, bpm = data_handler.load_and_process_data(filename, mode = 'gr', drum = 'J2', section_idx=0)\n"
   ]
  },
  {
   "cell_type": "markdown",
   "metadata": {},
   "source": [
    "### Two Sensor (Velocity)"
   ]
  },
  {
   "cell_type": "code",
   "execution_count": 1,
   "metadata": {},
   "outputs": [
    {
     "ename": "NameError",
     "evalue": "name 'motion_data' is not defined",
     "output_type": "error",
     "traceback": [
      "\u001b[0;31m---------------------------------------------------------------------------\u001b[0m",
      "\u001b[0;31mNameError\u001b[0m                                 Traceback (most recent call last)",
      "\u001b[0;32m/tmp/ipykernel_3098923/1980811736.py\u001b[0m in \u001b[0;36m<cell line: 0>\u001b[0;34m()\u001b[0m\n\u001b[1;32m      5\u001b[0m \u001b[0;34m\u001b[0m\u001b[0m\n\u001b[1;32m      6\u001b[0m \u001b[0;31m# sensorA_velocity = motion_data['velocity'][\"SEGMENT_PELVIS\"]\u001b[0m\u001b[0;34m\u001b[0m\u001b[0;34m\u001b[0m\u001b[0m\n\u001b[0;32m----> 7\u001b[0;31m \u001b[0msensorA_position\u001b[0m \u001b[0;34m=\u001b[0m \u001b[0mmotion_data\u001b[0m\u001b[0;34m[\u001b[0m\u001b[0;34m'position'\u001b[0m\u001b[0;34m]\u001b[0m\u001b[0;34m[\u001b[0m\u001b[0msensorA_seg_name\u001b[0m\u001b[0;34m]\u001b[0m\u001b[0;34m[\u001b[0m\u001b[0mstart_f\u001b[0m\u001b[0;34m:\u001b[0m\u001b[0mend_f\u001b[0m\u001b[0;34m,\u001b[0m \u001b[0;34m:\u001b[0m\u001b[0;34m]\u001b[0m    \u001b[0;31m# size (n, 3)    [start_f:end_f,:]\u001b[0m\u001b[0;34m\u001b[0m\u001b[0;34m\u001b[0m\u001b[0m\n\u001b[0m\u001b[1;32m      8\u001b[0m \u001b[0msensorB_position\u001b[0m \u001b[0;34m=\u001b[0m \u001b[0mmotion_data\u001b[0m\u001b[0;34m[\u001b[0m\u001b[0;34m'position'\u001b[0m\u001b[0;34m]\u001b[0m\u001b[0;34m[\u001b[0m\u001b[0msensorB_seg_name\u001b[0m\u001b[0;34m]\u001b[0m\u001b[0;34m[\u001b[0m\u001b[0mstart_f\u001b[0m\u001b[0;34m:\u001b[0m\u001b[0mend_f\u001b[0m\u001b[0;34m,\u001b[0m \u001b[0;34m:\u001b[0m\u001b[0;34m]\u001b[0m    \u001b[0;31m# size (n, 3)    [start_f:end_f,:]\u001b[0m\u001b[0;34m\u001b[0m\u001b[0;34m\u001b[0m\u001b[0m\n\u001b[1;32m      9\u001b[0m \u001b[0;34m\u001b[0m\u001b[0m\n",
      "\u001b[0;31mNameError\u001b[0m: name 'motion_data' is not defined"
     ]
    }
   ],
   "source": [
    "# SEGMENT_HEAD  SEGMENT_PELVIS   SEGMENT_T8  SEGMENT_LEFT_HAND  SEGMENT_LEFT_FOOT\n",
    "\n",
    "sensorA_seg_name = 'SEGMENT_RIGHT_HAND'\n",
    "sensorB_seg_name = 'SEGMENT_LEFT_HAND'\n",
    "\n",
    "# sensorA_velocity = motion_data['velocity'][\"SEGMENT_PELVIS\"]\n",
    "sensorA_position = motion_data['position'][sensorA_seg_name][start_f:end_f, :]    # size (n, 3)    [start_f:end_f,:]\n",
    "sensorB_position = motion_data['position'][sensorB_seg_name][start_f:end_f, :]    # size (n, 3)    [start_f:end_f,:]\n",
    "\n",
    "sensorA_velocity = motion_data['velocity'][sensorA_seg_name][start_f:end_f, :]    # size (n, 3)    [start_f:end_f,:]\n",
    "sensorB_velocity = motion_data['velocity'][sensorB_seg_name][start_f:end_f, :]    # size (n, 3)    [start_f:end_f,:]\n",
    "\n",
    "\n",
    "# sensorA_velocity = calc_xy_yz_zx(sensorA_velocity)\n",
    "# sensorB_velocity = calc_xy_yz_zx(sensorB_velocity)\n",
    "\n",
    "# sensorA_velocity = calc_xyz(sensorA_velocity)\n",
    "# sensorB_velocity = calc_xyz(sensorB_velocity)\n",
    "\n",
    "# distance_vector= calculate_hand_distance_vectors(sensorA_velocity, sensorB_velocity)\n",
    "# distance_vector = detrend_signal_array(distance_vector, cutoff= 0.8)\n",
    "\n",
    "sensorA_position = detrend_signal_array(sensorA_position, cutoff= 0.5)\n",
    "sensorB_position = detrend_signal_array(sensorB_position, cutoff= 0.5)\n",
    "\n",
    "\n",
    "sensorA_velocity = detrend_signal_array(sensorA_velocity, cutoff= 0.5)\n",
    "sensorB_velocity = detrend_signal_array(sensorB_velocity, cutoff= 0.5)\n",
    "\n",
    "novelty_length = len(sensorA_velocity)\n",
    "time_axis = np.arange(novelty_length)/240\n",
    "\n",
    "duration = int(end_t-start_t)\n",
    "w_sec = int(duration)\n",
    "h_sec = int(w_sec/4)\n",
    "\n",
    "# [ 60 : 200 ] , the resulting PLP function correctly reveals the quarter-note (tactus)\n",
    "\n",
    "mocap_fps = 240\n",
    "window_size = int(240*w_sec)\n",
    "hop_size = int(240*h_sec)\n",
    "tempi_range = np.arange(70,145,1)\n",
    "\n",
    "# tempo_json = main_one_sensor(distance_vector, mocap_fps, window_size, hop_size, tempi_range, distance_threshold=0.03, absolute='yes')    # 0.03\n",
    "# sensor_dir_change_onsets = tempo_json[\"sensor_dir_change_onsets\"]  \n",
    "idx=1\n",
    "tempo_json = main_two_sensor(sensorA_velocity[:,idx].reshape(-1,1), sensorB_velocity[:,idx].reshape(-1,1), \n",
    "                                        sensorA_position[:,idx].reshape(-1,1), sensorB_position[:,idx].reshape(-1,1), \n",
    "                                        mocap_fps, window_size, hop_size, tempi_range, distance_threshold=0.15,\n",
    "                                        T_filter= 0.25)\n",
    "\n",
    "\n",
    "sensorA_abs_vel = tempo_json[\"sensorA_abs_vel\"]\n",
    "sensorB_abs_vel = tempo_json[\"sensorB_abs_vel\"]\n",
    "sensorA_dir_change = tempo_json[\"sensorA_dir_change\"]\n",
    "sensorB_dir_change = tempo_json[\"sensorB_dir_change\"]                         \n",
    "sensorA_dir_change_f = tempo_json[\"sensorA_dir_change_f\"]\n",
    "sensorB_dir_change_f = tempo_json[\"sensorB_dir_change_f\"]\n",
    "                                                  \n",
    "sensorAB_onsets = tempo_json[\"sensorAB_onsets\"]\n",
    "\n",
    "tempogram_ab = tempo_json[\"tempogram_ab\"]\n",
    "time_axis_seconds = tempo_json[\"time_axis_seconds\"]\n",
    "tempo_axis_bpm = tempo_json[\"tempo_axis_bpm\"]\n",
    "\n",
    "tempo_data_maxmethod = tempo_json[\"tempo_data_maxmethod\"]\n",
    "tempo_data_weightedkernel = tempo_json[\"tempo_data_weightedkernel\"]\n",
    "# tempo_data_combinedtempogram = tempo_json[\"tempo_data_combinedtempogram\"]\n",
    "\n",
    "# Max method\n",
    "Aestimated_beat_pulse = tempo_data_maxmethod[\"estimated_beat_pulse\"]\n",
    "Atempo_curve = tempo_data_maxmethod[\"tempo_curve\"]\n",
    "Atempo_curve_time_axis = tempo_data_weightedkernel[\"tempo_curve_time_axis\"]\n",
    "# Aglobal_tempo_bpm = tempo_data_maxmethod[\"global_tempo_bpm\"]\n",
    "bpmA_arr = tempo_data_maxmethod[\"bpm_arr\"]\n",
    "bpmB_arr = tempo_data_maxmethod[\"bpm_arr\"]\n",
    "tempo_A = np.round(np.average(bpmA_arr), 2)\n",
    "tempo_B = np.round(np.average(bpmB_arr), 2)\n",
    "\n",
    "# Weighted method\n",
    "Bestimated_beat_pulse = tempo_data_weightedkernel[\"estimated_beat_pulse\"]\n",
    "Btempo_curve = tempo_data_weightedkernel[\"tempo_curve\"]\n",
    "Btempo_curve_time_axis = tempo_data_weightedkernel[\"tempo_curve_time_axis\"]\n",
    "# Bglobal_tempo_bpm = tempo_data_weightedkernel[\"global_tempo_bpm\"]\n",
    "\n",
    "# Combined method\n",
    "# Cestimated_beat_pulse = tempo_data_combinedtempogram[\"estimated_beat_pulse\"]\n",
    "# Ctempo_curve = tempo_data_combinedtempogram[\"tempo_curve\"]\n",
    "# Ctempo_curve_time_axis = tempo_data_combinedtempogram[\"tempo_curve_time_axis\"]\n",
    "# Cglobal_tempo_bpm = tempo_data_combinedtempogram[\"global_tempo_bpm\"]\n",
    "\n",
    "# both_sensor_onsets_b = np.sum(sensor_dir_change_onsets, axis=1)\n",
    "# both_sensor_onsets_b = np.where(both_sensor_onsets_b > 0, 1,0)\n",
    "# both_sensor_onsets_bfil = filter_dir_onsets_by_threshold(both_sensor_onsets_b.reshape(-1,1), threshold_s=0.15)\n",
    "# both_sensor_onsets = both_sensor_onsets_bfil.flatten()   # Binary onsets\n",
    "\n",
    "# dance_onset, estimated_beat_onset, drum_ref = data_handler.onsets_for_plotting(sensorAB_onsets, Aestimated_beat_pulse, novelty_length)\n",
    "# dance_bpm = data_handler.calc_tempo_from_onsets(dance_onset)\n",
    "\n",
    "print(\"A:\", tempo_A)\n",
    "print(\"B:\", tempo_B)\n",
    "# print(\"C:\", np.average(Ctempo_curve[start_f:end_f]))\n",
    "print(\"bpm:\", bpm)"
   ]
  },
  {
   "cell_type": "code",
   "execution_count": null,
   "metadata": {},
   "outputs": [],
   "source": [
    "plot_tempogram_perAxis(tempo_json, islog= 'no', dpi=200)"
   ]
  },
  {
   "cell_type": "code",
   "execution_count": null,
   "metadata": {},
   "outputs": [],
   "source": [
    "plt.figure(figsize=(40, 6), dpi=200)\n",
    "plt.plot(100*Aestimated_beat_pulse[start_f:end_f], linewidth=1, color = 'b')\n",
    "plt.plot(Atempo_curve[start_f:end_f], linewidth=1, color = 'r')\n",
    "\n",
    "plt.xlabel('Time (seconds)')\n",
    "plt.ylabel('Tempo (BPM)')\n",
    "plt.title(f'{piece_name} Start:{round(start_t)} End:{round(end_t)}')\n",
    "plt.grid(True)\n",
    "plt.show()"
   ]
  },
  {
   "cell_type": "code",
   "execution_count": null,
   "metadata": {},
   "outputs": [],
   "source": [
    "pos_b = np.where(sensorA_position[start_f:end_f,1]> 0, 1,0)\n",
    "\n",
    "indices = np.where(sensorA_dir_change[start_f:end_f] > 0)[0]\n",
    "filtered_indices = indices[pos_b[indices] == 1]\n",
    "\n",
    "plt.figure(figsize=(40, 6), dpi=300)\n",
    "# plt.plot(sensorA_position[start_f:end_f, 1], linewidth = 1.0, color='b')\n",
    "plt.plot(pos_b, linewidth = 1.0, color='r')\n",
    "plt.vlines(x= indices, ymin=0.0, ymax=1, color='g', linewidth=1.2,)"
   ]
  },
  {
   "cell_type": "code",
   "execution_count": null,
   "metadata": {},
   "outputs": [],
   "source": [
    "# Per mode: drum onset and directional change onset plot\n",
    "\n",
    "plt.figure(figsize=(40, 6), dpi=300)\n",
    "window_size = 0.1\n",
    "for onset in beat_ref:\n",
    "    window_start = onset - (window_size/2)  # Start of the window (25ms before)\n",
    "    window_end = onset + (window_size/2)   # End of the window (25ms after)\n",
    "    \n",
    "    # Plot shaded window\n",
    "    plt.axvspan(window_start, window_end, color='red', alpha=0.2)\n",
    "    # Plot reference onset as a vertical line\n",
    "    plt.axvline(onset, color='red', linestyle='--', linewidth=0.8)\n",
    "\n",
    "plt.vlines(x= dance_onset, ymin=0.0, ymax=1, color='g', linewidth=1.5,)\n",
    "# plt.vlines(x= estimated_beat_onset, ymin=0.0, ymax=1, color='g', linewidth=1.5,)\n",
    "\n",
    "plt.xlabel('Time (seconds)')\n",
    "plt.title(f'{piece_name}')\n",
    "plt.grid(True)\n",
    "plt.show()"
   ]
  },
  {
   "cell_type": "code",
   "execution_count": null,
   "metadata": {},
   "outputs": [],
   "source": [
    "results = evaluate_dance_onsets_with_half_beats(beat_ref, dance_onset, tolerance=0.15)\n",
    "# results = evaluate_dance_onsets_with_half_beats(beat_ref, estimated_beat_onset, tolerance=0.15)\n",
    "\n",
    "print(\"\\nEvaluation Results:\")\n",
    "for key, value in results.items():\n",
    "    print(f\"{key}: {value}\")\n",
    "print(\"-\"*40)"
   ]
  },
  {
   "cell_type": "code",
   "execution_count": null,
   "metadata": {},
   "outputs": [],
   "source": [
    "# Evaluate using mir_eval\n",
    "scores = mir_eval.beat.evaluate(drum_reference, beat_estimated)\n",
    "precision, recall, f_measure = mir_eval.onset.f_measure(drum_reference, beat_estimated)\n",
    "print(f'Precision: {precision}, Recall: {recall}, F-Measure: {f_measure}')"
   ]
  },
  {
   "cell_type": "code",
   "execution_count": null,
   "metadata": {},
   "outputs": [],
   "source": [
    "#   Save audio plots\n",
    "\n",
    "time = np.arange(novelty_length) / mocap_fps\n",
    "peaks, _ = signal.find_peaks(Aestimated_beat_pulse)  # , prominence=0.02\n",
    "beat_peaks_sec = time[peaks]\n",
    "\n",
    "\n",
    "click_duration = 50  # milliseconds\n",
    "click_freq = 1200  # Hz\n",
    "file_name =\"maraka_vel\"\n",
    "# Generate a single click sound\n",
    "click = Triangle(click_freq).to_audio_segment(duration=click_duration)\n",
    "\n",
    "onset_times = beat_peaks_sec  # kept_onsets/240   beat_peaks_sec\n",
    "dN = novelty_length\n",
    "total_duration = (dN/240)*1000  #  in milliseconds\n",
    "\n",
    "audio = AudioSegment.silent(duration=total_duration)\n",
    "for onset in onset_times:\n",
    "    position = int(onset * 1000)  # Convert onset time to milliseconds\n",
    "    audio = audio.overlay(click, position=position)\n",
    "\n",
    "# Export the audio with clicks to a file\n",
    "audio.export(os.path.join(\"/itf-fi-ml/home/sagardu/extract_feet_onset\", f\"{file_name}_Both_Foot_new.wav\"), format=\"wav\")\n",
    "# audio.export(os.path.join(\"/itf-fi-ml/home/sagardu/extract_feet_onset\", f\"{file_name}_Bothhand_dir.wav\"), format=\"wav\")"
   ]
  }
 ],
 "metadata": {
  "kernelspec": {
   "display_name": "base",
   "language": "python",
   "name": "python3"
  },
  "language_info": {
   "codemirror_mode": {
    "name": "ipython",
    "version": 3
   },
   "file_extension": ".py",
   "mimetype": "text/x-python",
   "name": "python",
   "nbconvert_exporter": "python",
   "pygments_lexer": "ipython3",
   "version": "3.12.2"
  }
 },
 "nbformat": 4,
 "nbformat_minor": 2
}
