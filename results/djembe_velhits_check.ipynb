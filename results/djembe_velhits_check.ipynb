{
 "cells": [
  {
   "cell_type": "code",
   "execution_count": 1,
   "metadata": {},
   "outputs": [],
   "source": [
    "import os\n",
    "import ast\n",
    "import numpy as np\n",
    "import seaborn as sns\n",
    "import pandas as pd\n",
    "from dance_evaluation import *\n",
    "import matplotlib.pyplot as plt"
   ]
  },
  {
   "cell_type": "code",
   "execution_count": 2,
   "metadata": {},
   "outputs": [],
   "source": [
    "foot_df = pd.read_csv(f\"./vel_1s/foot/peraxis/foot_peraxis_zero_uni_70_145.csv\")\n",
    "# hand_df = pd.read_csv(f\".vel_1s/hand/peraxis/hand_peraxis_zero_uni_70_145.csv\")\n",
    "\n",
    "foot_1s_score = pd.read_csv(f\"./vel_1s/foot/plots/vel_1s_foot_peraxis_score.csv\")\n",
    "hand_1s_score = pd.read_csv(f\"./vel_1s/hand/plots/vel_1s_hand_peraxis_score.csv\")\n",
    "\n",
    "foot_2s_score = pd.read_csv(f\"./vel_2s/foot/plots/vel_2s_foot_peraxis_score.csv\")\n",
    "hand_2s_score = pd.read_csv(f\"./vel_2s/hand/plots/vel_2s_hand_peraxis_score.csv\")\n",
    "\n",
    "foot_1s_score[\"hits_idx\"] = foot_1s_score[\"hits_idx\"].apply(ast.literal_eval)\n",
    "hand_1s_score[\"hits_idx\"] = hand_1s_score[\"hits_idx\"].apply(ast.literal_eval)\n",
    "\n",
    "foot_2s_score[\"hits_idx\"] = foot_2s_score[\"hits_idx\"].apply(ast.literal_eval)\n",
    "hand_2s_score[\"hits_idx\"] = hand_2s_score[\"hits_idx\"].apply(ast.literal_eval)\n",
    "\n",
    "total = foot_df.shape[0]"
   ]
  },
  {
   "cell_type": "code",
   "execution_count": 4,
   "metadata": {},
   "outputs": [
    {
     "name": "stdout",
     "output_type": "stream",
     "text": [
      "**********1-Sensor**********\n",
      "total: 36\n",
      "foot hits: 26 (72.22 %)\n",
      "hand hits: 22 (61.11 %)\n",
      "combined hits: 33 (91.67 %)\n",
      "common hits: 15\n",
      "foot - common: 11\n",
      "hand - common: 7\n",
      "**********2-Sensor**********\n",
      "total: 36\n",
      "foot hits: 25 (69.44 %)\n",
      "hand hits: 19 (52.78 %)\n",
      "combined hits: 27 (75.0 %)\n",
      "common hits: 17\n",
      "foot - common: 8\n",
      "hand - common: 2\n"
     ]
    }
   ],
   "source": [
    "def calc_hits(foot_score, hand_score):\n",
    "\n",
    "    foot_hits = set(foot_score)\n",
    "    hand_hits = set(hand_score)\n",
    "    combined_hits = foot_hits.union(hand_hits)\n",
    "    common_hits = foot_hits.intersection(hand_hits)\n",
    "    \n",
    "    print(\"total:\", total)\n",
    "    print(\"foot hits:\", len(foot_hits), f\"({round(len(foot_hits)*100/total, 2)} %)\" )\n",
    "    print(\"hand hits:\", len(hand_hits), f\"({round(len(hand_hits)*100/total, 2)} %)\")\n",
    "    print(\"combined hits:\", len(combined_hits), f\"({round(len(combined_hits)*100/total, 2)} %)\")\n",
    "    print(\"common hits:\", len(common_hits))\n",
    "    print(\"foot - common:\", len(foot_hits)-len(common_hits))\n",
    "    print(\"hand - common:\", len(hand_hits)-len(common_hits))\n",
    "    \n",
    "    \n",
    "    return foot_hits, hand_hits, combined_hits, common_hits\n",
    "\n",
    "print(10*\"*\"+\"1-Sensor\"+ 10*\"*\" )\n",
    "foot1_hits, hand1_hits, combined1_hits, common1_hits = calc_hits(foot_1s_score[\"hits_idx\"][5], hand_1s_score[\"hits_idx\"][5])\n",
    "\n",
    "print(10*\"*\"+\"2-Sensor\"+ 10*\"*\" )\n",
    "foot2_hits, hand2_hits, combined2_hits, common2_hits = calc_hits(foot_2s_score[\"hits_idx\"][5], hand_2s_score[\"hits_idx\"][5])\n",
    "\n",
    "\n"
   ]
  }
 ],
 "metadata": {
  "kernelspec": {
   "display_name": "base",
   "language": "python",
   "name": "python3"
  },
  "language_info": {
   "codemirror_mode": {
    "name": "ipython",
    "version": 3
   },
   "file_extension": ".py",
   "mimetype": "text/x-python",
   "name": "python",
   "nbconvert_exporter": "python",
   "pygments_lexer": "ipython3",
   "version": "3.12.9"
  }
 },
 "nbformat": 4,
 "nbformat_minor": 2
}
